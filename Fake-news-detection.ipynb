{
 "cells": [
  {
   "cell_type": "code",
   "execution_count": 1,
   "id": "ee7e5e08",
   "metadata": {},
   "outputs": [
    {
     "name": "stderr",
     "output_type": "stream",
     "text": [
      "C:\\Users\\vivek\\anaconda3\\lib\\site-packages\\pandas\\core\\computation\\expressions.py:21: UserWarning: Pandas requires version '2.8.4' or newer of 'numexpr' (version '2.7.3' currently installed).\n",
      "  from pandas.core.computation.check import NUMEXPR_INSTALLED\n",
      "C:\\Users\\vivek\\anaconda3\\lib\\site-packages\\pandas\\core\\arrays\\masked.py:60: UserWarning: Pandas requires version '1.3.6' or newer of 'bottleneck' (version '1.3.2' currently installed).\n",
      "  from pandas.core import (\n"
     ]
    }
   ],
   "source": [
    "import pandas as pd\n",
    "import numpy as np\n",
    "import re, string, nltk\n",
    "\n",
    "# Data Preprocessing\n",
    "from nltk.corpus import stopwords\n",
    "from nltk.stem import WordNetLemmatizer, PorterStemmer\n",
    "from sklearn.model_selection import train_test_split\n",
    "\n",
    "# Feature Extraction\n",
    "from sklearn.feature_extraction.text import TfidfVectorizer, CountVectorizer\n",
    "\n",
    "# Building Model\n",
    "from sklearn.naive_bayes import MultinomialNB\n",
    "from sklearn.ensemble import RandomForestClassifier\n"
   ]
  },
  {
   "cell_type": "code",
   "execution_count": 25,
   "id": "995b9b83",
   "metadata": {},
   "outputs": [],
   "source": [
    "data_train = pd.read_csv(r'./train.csv')\n",
    "data_test = pd.read_csv(r'./test.csv')\n"
   ]
  },
  {
   "cell_type": "code",
   "execution_count": 26,
   "id": "a72c23f1",
   "metadata": {},
   "outputs": [],
   "source": [
    "data_train=data_train.iloc[:5000].copy()"
   ]
  },
  {
   "cell_type": "code",
   "execution_count": 27,
   "id": "9c128ffa",
   "metadata": {},
   "outputs": [],
   "source": [
    "data_test=data_test.iloc[:1000].copy()"
   ]
  },
  {
   "cell_type": "code",
   "execution_count": 28,
   "id": "322af573",
   "metadata": {},
   "outputs": [
    {
     "data": {
      "text/html": [
       "<div>\n",
       "<style scoped>\n",
       "    .dataframe tbody tr th:only-of-type {\n",
       "        vertical-align: middle;\n",
       "    }\n",
       "\n",
       "    .dataframe tbody tr th {\n",
       "        vertical-align: top;\n",
       "    }\n",
       "\n",
       "    .dataframe thead th {\n",
       "        text-align: right;\n",
       "    }\n",
       "</style>\n",
       "<table border=\"1\" class=\"dataframe\">\n",
       "  <thead>\n",
       "    <tr style=\"text-align: right;\">\n",
       "      <th></th>\n",
       "      <th>id</th>\n",
       "      <th>title</th>\n",
       "      <th>author</th>\n",
       "      <th>text</th>\n",
       "      <th>label</th>\n",
       "    </tr>\n",
       "  </thead>\n",
       "  <tbody>\n",
       "    <tr>\n",
       "      <th>0</th>\n",
       "      <td>0</td>\n",
       "      <td>House Dem Aide: We Didn’t Even See Comey’s Let...</td>\n",
       "      <td>Darrell Lucus</td>\n",
       "      <td>House Dem Aide: We Didn’t Even See Comey’s Let...</td>\n",
       "      <td>1</td>\n",
       "    </tr>\n",
       "    <tr>\n",
       "      <th>1</th>\n",
       "      <td>1</td>\n",
       "      <td>FLYNN: Hillary Clinton, Big Woman on Campus - ...</td>\n",
       "      <td>Daniel J. Flynn</td>\n",
       "      <td>Ever get the feeling your life circles the rou...</td>\n",
       "      <td>0</td>\n",
       "    </tr>\n",
       "    <tr>\n",
       "      <th>2</th>\n",
       "      <td>2</td>\n",
       "      <td>Why the Truth Might Get You Fired</td>\n",
       "      <td>Consortiumnews.com</td>\n",
       "      <td>Why the Truth Might Get You Fired October 29, ...</td>\n",
       "      <td>1</td>\n",
       "    </tr>\n",
       "    <tr>\n",
       "      <th>3</th>\n",
       "      <td>3</td>\n",
       "      <td>15 Civilians Killed In Single US Airstrike Hav...</td>\n",
       "      <td>Jessica Purkiss</td>\n",
       "      <td>Videos 15 Civilians Killed In Single US Airstr...</td>\n",
       "      <td>1</td>\n",
       "    </tr>\n",
       "    <tr>\n",
       "      <th>4</th>\n",
       "      <td>4</td>\n",
       "      <td>Iranian woman jailed for fictional unpublished...</td>\n",
       "      <td>Howard Portnoy</td>\n",
       "      <td>Print \\nAn Iranian woman has been sentenced to...</td>\n",
       "      <td>1</td>\n",
       "    </tr>\n",
       "  </tbody>\n",
       "</table>\n",
       "</div>"
      ],
      "text/plain": [
       "   id                                              title              author  \\\n",
       "0   0  House Dem Aide: We Didn’t Even See Comey’s Let...       Darrell Lucus   \n",
       "1   1  FLYNN: Hillary Clinton, Big Woman on Campus - ...     Daniel J. Flynn   \n",
       "2   2                  Why the Truth Might Get You Fired  Consortiumnews.com   \n",
       "3   3  15 Civilians Killed In Single US Airstrike Hav...     Jessica Purkiss   \n",
       "4   4  Iranian woman jailed for fictional unpublished...      Howard Portnoy   \n",
       "\n",
       "                                                text  label  \n",
       "0  House Dem Aide: We Didn’t Even See Comey’s Let...      1  \n",
       "1  Ever get the feeling your life circles the rou...      0  \n",
       "2  Why the Truth Might Get You Fired October 29, ...      1  \n",
       "3  Videos 15 Civilians Killed In Single US Airstr...      1  \n",
       "4  Print \\nAn Iranian woman has been sentenced to...      1  "
      ]
     },
     "execution_count": 28,
     "metadata": {},
     "output_type": "execute_result"
    }
   ],
   "source": [
    "data_train.head()\n"
   ]
  },
  {
   "cell_type": "code",
   "execution_count": 29,
   "id": "560fa207",
   "metadata": {},
   "outputs": [],
   "source": [
    "data_train = data_train.fillna('')\n",
    "data_test = data_test.fillna('')\n"
   ]
  },
  {
   "cell_type": "code",
   "execution_count": 30,
   "id": "3fe48f4a",
   "metadata": {},
   "outputs": [],
   "source": [
    "punc = list(string.punctuation)\n",
    "stop_word = stopwords.words('english')\n",
    "lemma = WordNetLemmatizer()\n",
    "ps = PorterStemmer()\n"
   ]
  },
  {
   "cell_type": "code",
   "execution_count": 31,
   "id": "ac4a3839",
   "metadata": {},
   "outputs": [],
   "source": [
    "def preprocessing(data):\n",
    "    data = re.sub('[^a-zA-Z]', ' ', data)\n",
    "    data = data.lower()\n",
    "    data = data.split()\n",
    "    data = ' '.join([ps.stem(word) for word in data if (word not in punc) or (word not in stop_word)])\n",
    "\n",
    "#     data = ' '.join([lemma.lemmatize(word) for word in data if (word not in punc) or (word not in stop_word)])\n",
    "    return data\n"
   ]
  },
  {
   "cell_type": "code",
   "execution_count": 32,
   "id": "e9a6f4ec",
   "metadata": {},
   "outputs": [],
   "source": [
    "data_train['Final_text'] = data_train['text'].apply(preprocessing)\n",
    "data_test['Final_text'] = data_test['text'].apply(preprocessing)\n"
   ]
  },
  {
   "cell_type": "code",
   "execution_count": 33,
   "id": "b1d89b93",
   "metadata": {},
   "outputs": [
    {
     "data": {
      "text/html": [
       "<div>\n",
       "<style scoped>\n",
       "    .dataframe tbody tr th:only-of-type {\n",
       "        vertical-align: middle;\n",
       "    }\n",
       "\n",
       "    .dataframe tbody tr th {\n",
       "        vertical-align: top;\n",
       "    }\n",
       "\n",
       "    .dataframe thead th {\n",
       "        text-align: right;\n",
       "    }\n",
       "</style>\n",
       "<table border=\"1\" class=\"dataframe\">\n",
       "  <thead>\n",
       "    <tr style=\"text-align: right;\">\n",
       "      <th></th>\n",
       "      <th>id</th>\n",
       "      <th>title</th>\n",
       "      <th>author</th>\n",
       "      <th>text</th>\n",
       "      <th>label</th>\n",
       "      <th>Final_text</th>\n",
       "    </tr>\n",
       "  </thead>\n",
       "  <tbody>\n",
       "    <tr>\n",
       "      <th>0</th>\n",
       "      <td>0</td>\n",
       "      <td>House Dem Aide: We Didn’t Even See Comey’s Let...</td>\n",
       "      <td>Darrell Lucus</td>\n",
       "      <td>House Dem Aide: We Didn’t Even See Comey’s Let...</td>\n",
       "      <td>1</td>\n",
       "      <td>hous dem aid we didn t even see comey s letter...</td>\n",
       "    </tr>\n",
       "    <tr>\n",
       "      <th>1</th>\n",
       "      <td>1</td>\n",
       "      <td>FLYNN: Hillary Clinton, Big Woman on Campus - ...</td>\n",
       "      <td>Daniel J. Flynn</td>\n",
       "      <td>Ever get the feeling your life circles the rou...</td>\n",
       "      <td>0</td>\n",
       "      <td>ever get the feel your life circl the roundabo...</td>\n",
       "    </tr>\n",
       "    <tr>\n",
       "      <th>2</th>\n",
       "      <td>2</td>\n",
       "      <td>Why the Truth Might Get You Fired</td>\n",
       "      <td>Consortiumnews.com</td>\n",
       "      <td>Why the Truth Might Get You Fired October 29, ...</td>\n",
       "      <td>1</td>\n",
       "      <td>whi the truth might get you fire octob the ten...</td>\n",
       "    </tr>\n",
       "    <tr>\n",
       "      <th>3</th>\n",
       "      <td>3</td>\n",
       "      <td>15 Civilians Killed In Single US Airstrike Hav...</td>\n",
       "      <td>Jessica Purkiss</td>\n",
       "      <td>Videos 15 Civilians Killed In Single US Airstr...</td>\n",
       "      <td>1</td>\n",
       "      <td>video civilian kill in singl us airstrik have ...</td>\n",
       "    </tr>\n",
       "    <tr>\n",
       "      <th>4</th>\n",
       "      <td>4</td>\n",
       "      <td>Iranian woman jailed for fictional unpublished...</td>\n",
       "      <td>Howard Portnoy</td>\n",
       "      <td>Print \\nAn Iranian woman has been sentenced to...</td>\n",
       "      <td>1</td>\n",
       "      <td>print an iranian woman ha been sentenc to six ...</td>\n",
       "    </tr>\n",
       "  </tbody>\n",
       "</table>\n",
       "</div>"
      ],
      "text/plain": [
       "   id                                              title              author  \\\n",
       "0   0  House Dem Aide: We Didn’t Even See Comey’s Let...       Darrell Lucus   \n",
       "1   1  FLYNN: Hillary Clinton, Big Woman on Campus - ...     Daniel J. Flynn   \n",
       "2   2                  Why the Truth Might Get You Fired  Consortiumnews.com   \n",
       "3   3  15 Civilians Killed In Single US Airstrike Hav...     Jessica Purkiss   \n",
       "4   4  Iranian woman jailed for fictional unpublished...      Howard Portnoy   \n",
       "\n",
       "                                                text  label  \\\n",
       "0  House Dem Aide: We Didn’t Even See Comey’s Let...      1   \n",
       "1  Ever get the feeling your life circles the rou...      0   \n",
       "2  Why the Truth Might Get You Fired October 29, ...      1   \n",
       "3  Videos 15 Civilians Killed In Single US Airstr...      1   \n",
       "4  Print \\nAn Iranian woman has been sentenced to...      1   \n",
       "\n",
       "                                          Final_text  \n",
       "0  hous dem aid we didn t even see comey s letter...  \n",
       "1  ever get the feel your life circl the roundabo...  \n",
       "2  whi the truth might get you fire octob the ten...  \n",
       "3  video civilian kill in singl us airstrik have ...  \n",
       "4  print an iranian woman ha been sentenc to six ...  "
      ]
     },
     "execution_count": 33,
     "metadata": {},
     "output_type": "execute_result"
    }
   ],
   "source": [
    "data_train.head()\n"
   ]
  },
  {
   "cell_type": "code",
   "execution_count": 34,
   "id": "4af70852",
   "metadata": {},
   "outputs": [],
   "source": [
    "def drop_col(data):\n",
    "    data = data.drop(columns=['id', 'author', 'title', 'text'], axis=1)\n",
    "    data = data.dropna()\n",
    "    return data\n",
    "\n",
    "data_train = drop_col(data_train)\n",
    "data_test = drop_col(data_test)\n"
   ]
  },
  {
   "cell_type": "markdown",
   "id": "34036e29",
   "metadata": {},
   "source": [
    "## Feature Extraction"
   ]
  },
  {
   "cell_type": "code",
   "execution_count": 35,
   "id": "fed0321f",
   "metadata": {},
   "outputs": [],
   "source": [
    "## Bag of Words"
   ]
  },
  {
   "cell_type": "code",
   "execution_count": 36,
   "id": "6431ba4d",
   "metadata": {},
   "outputs": [
    {
     "data": {
      "text/plain": [
       "array([[0, 0, 0, ..., 0, 0, 0],\n",
       "       [0, 0, 0, ..., 0, 0, 0]], dtype=int64)"
      ]
     },
     "execution_count": 36,
     "metadata": {},
     "output_type": "execute_result"
    }
   ],
   "source": [
    "bag_of_words = CountVectorizer()\n",
    "X_bow = bag_of_words.fit_transform(data_train['Final_text']).toarray()\n",
    "testing_data_bow = bag_of_words.transform(data_test['Final_text']).toarray()\n",
    "X_bow[:2]\n"
   ]
  },
  {
   "cell_type": "code",
   "execution_count": 37,
   "id": "f9613e13",
   "metadata": {},
   "outputs": [],
   "source": [
    "Y_bow = data_train['label'].values\n"
   ]
  },
  {
   "cell_type": "code",
   "execution_count": 38,
   "id": "31fb6e2e",
   "metadata": {},
   "outputs": [],
   "source": [
    "## TF-IDF"
   ]
  },
  {
   "cell_type": "code",
   "execution_count": 39,
   "id": "9243aa3a",
   "metadata": {},
   "outputs": [],
   "source": [
    "TF_IDF = TfidfVectorizer()\n",
    "X_TFIDF = TF_IDF.fit_transform(data_train['Final_text']).toarray()\n",
    "testing_data_tfidf = TF_IDF.transform(data_test['Final_text']).toarray()\n"
   ]
  },
  {
   "cell_type": "code",
   "execution_count": 40,
   "id": "76480144",
   "metadata": {},
   "outputs": [],
   "source": [
    "## train-test split"
   ]
  },
  {
   "cell_type": "code",
   "execution_count": 42,
   "id": "e4b5ed76",
   "metadata": {},
   "outputs": [],
   "source": [
    "x_train_bow, x_test_bow, y_train_bow, y_test_bow = train_test_split(X_bow, Y_bow, train_size=0.8)\n",
    "x_train_TFIDF, x_test_TFIDF, y_train_TFIDF, y_test_TFIDF = train_test_split(X_TFIDF, Y_bow, train_size=0.8)\n"
   ]
  },
  {
   "cell_type": "markdown",
   "id": "ecef417a",
   "metadata": {},
   "source": [
    "## Random Forest"
   ]
  },
  {
   "cell_type": "code",
   "execution_count": 43,
   "id": "9013e081",
   "metadata": {},
   "outputs": [
    {
     "name": "stdout",
     "output_type": "stream",
     "text": [
      "Training Score is -->  1.0\n",
      "Testing Score is -->  0.902\n"
     ]
    }
   ],
   "source": [
    "model_bow_rf = RandomForestClassifier()\n",
    "model_bow_rf.fit(x_train_bow, y_train_bow)\n",
    "\n",
    "print('Training Score is --> ', model_bow_rf.score(x_train_bow, y_train_bow))\n",
    "print('Testing Score is --> ', model_bow_rf.score(x_test_bow, y_test_bow))\n"
   ]
  },
  {
   "cell_type": "code",
   "execution_count": null,
   "id": "3d23a69c",
   "metadata": {},
   "outputs": [],
   "source": []
  },
  {
   "cell_type": "code",
   "execution_count": 44,
   "id": "961ffdf9",
   "metadata": {},
   "outputs": [
    {
     "name": "stdout",
     "output_type": "stream",
     "text": [
      "Training Score is -->  1.0\n",
      "Testing Score is -->  0.873\n"
     ]
    }
   ],
   "source": [
    "model_tfidf_rf = RandomForestClassifier()\n",
    "model_tfidf_rf.fit(x_train_TFIDF, y_train_TFIDF)\n",
    "\n",
    "print('Training Score is --> ', model_tfidf_rf.score(x_train_TFIDF, y_train_TFIDF))\n",
    "print('Testing Score is --> ', model_tfidf_rf.score(x_test_TFIDF, y_test_TFIDF))\n"
   ]
  },
  {
   "cell_type": "code",
   "execution_count": null,
   "id": "a04c0699",
   "metadata": {},
   "outputs": [],
   "source": []
  },
  {
   "cell_type": "code",
   "execution_count": null,
   "id": "970b37b3",
   "metadata": {},
   "outputs": [],
   "source": []
  },
  {
   "cell_type": "code",
   "execution_count": null,
   "id": "4e119f1b",
   "metadata": {},
   "outputs": [],
   "source": []
  }
 ],
 "metadata": {
  "kernelspec": {
   "display_name": "Python 3 (ipykernel)",
   "language": "python",
   "name": "python3"
  },
  "language_info": {
   "codemirror_mode": {
    "name": "ipython",
    "version": 3
   },
   "file_extension": ".py",
   "mimetype": "text/x-python",
   "name": "python",
   "nbconvert_exporter": "python",
   "pygments_lexer": "ipython3",
   "version": "3.9.7"
  }
 },
 "nbformat": 4,
 "nbformat_minor": 5
}
